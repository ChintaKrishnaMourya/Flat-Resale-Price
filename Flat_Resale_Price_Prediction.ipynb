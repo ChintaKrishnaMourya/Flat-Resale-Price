{
  "cells": [
    {
      "cell_type": "code",
      "execution_count": null,
      "metadata": {
        "id": "c7m5QsrXINJB"
      },
      "outputs": [],
      "source": [
        "# Importing important libraries\n",
        "import numpy as np\n",
        "import pandas as pd\n",
        "import seaborn as sns\n",
        "import matplotlib.pyplot as plt\n",
        "\n",
        "import warnings\n",
        "warnings.filterwarnings('ignore')"
      ]
    },
    {
      "cell_type": "code",
      "execution_count": null,
      "metadata": {
        "colab": {
          "base_uri": "https://localhost:8080/",
          "height": 424
        },
        "id": "LOusWORNINJK",
        "outputId": "446707e4-3eef-4df4-d9ac-cb09b91e6f27"
      },
      "outputs": [
        {
          "data": {
            "text/html": [
              "<div>\n",
              "<style scoped>\n",
              "    .dataframe tbody tr th:only-of-type {\n",
              "        vertical-align: middle;\n",
              "    }\n",
              "\n",
              "    .dataframe tbody tr th {\n",
              "        vertical-align: top;\n",
              "    }\n",
              "\n",
              "    .dataframe thead th {\n",
              "        text-align: right;\n",
              "    }\n",
              "</style>\n",
              "<table border=\"1\" class=\"dataframe\">\n",
              "  <thead>\n",
              "    <tr style=\"text-align: right;\">\n",
              "      <th></th>\n",
              "      <th>month</th>\n",
              "      <th>town</th>\n",
              "      <th>flat_type</th>\n",
              "      <th>block</th>\n",
              "      <th>street_name</th>\n",
              "      <th>storey_range</th>\n",
              "      <th>floor_area_sqm</th>\n",
              "      <th>flat_model</th>\n",
              "      <th>lease_commence_date</th>\n",
              "      <th>remaining_lease</th>\n",
              "      <th>resale_price</th>\n",
              "    </tr>\n",
              "  </thead>\n",
              "  <tbody>\n",
              "    <tr>\n",
              "      <th>0</th>\n",
              "      <td>2017-01</td>\n",
              "      <td>ANG MO KIO</td>\n",
              "      <td>2 ROOM</td>\n",
              "      <td>406</td>\n",
              "      <td>ANG MO KIO AVE 10</td>\n",
              "      <td>10 TO 12</td>\n",
              "      <td>44.0</td>\n",
              "      <td>Improved</td>\n",
              "      <td>1979</td>\n",
              "      <td>61 years 04 months</td>\n",
              "      <td>232000.0</td>\n",
              "    </tr>\n",
              "    <tr>\n",
              "      <th>1</th>\n",
              "      <td>2017-01</td>\n",
              "      <td>ANG MO KIO</td>\n",
              "      <td>3 ROOM</td>\n",
              "      <td>108</td>\n",
              "      <td>ANG MO KIO AVE 4</td>\n",
              "      <td>01 TO 03</td>\n",
              "      <td>67.0</td>\n",
              "      <td>New Generation</td>\n",
              "      <td>1978</td>\n",
              "      <td>60 years 07 months</td>\n",
              "      <td>250000.0</td>\n",
              "    </tr>\n",
              "    <tr>\n",
              "      <th>2</th>\n",
              "      <td>2017-01</td>\n",
              "      <td>ANG MO KIO</td>\n",
              "      <td>3 ROOM</td>\n",
              "      <td>602</td>\n",
              "      <td>ANG MO KIO AVE 5</td>\n",
              "      <td>01 TO 03</td>\n",
              "      <td>67.0</td>\n",
              "      <td>New Generation</td>\n",
              "      <td>1980</td>\n",
              "      <td>62 years 05 months</td>\n",
              "      <td>262000.0</td>\n",
              "    </tr>\n",
              "    <tr>\n",
              "      <th>3</th>\n",
              "      <td>2017-01</td>\n",
              "      <td>ANG MO KIO</td>\n",
              "      <td>3 ROOM</td>\n",
              "      <td>465</td>\n",
              "      <td>ANG MO KIO AVE 10</td>\n",
              "      <td>04 TO 06</td>\n",
              "      <td>68.0</td>\n",
              "      <td>New Generation</td>\n",
              "      <td>1980</td>\n",
              "      <td>62 years 01 month</td>\n",
              "      <td>265000.0</td>\n",
              "    </tr>\n",
              "    <tr>\n",
              "      <th>4</th>\n",
              "      <td>2017-01</td>\n",
              "      <td>ANG MO KIO</td>\n",
              "      <td>3 ROOM</td>\n",
              "      <td>601</td>\n",
              "      <td>ANG MO KIO AVE 5</td>\n",
              "      <td>01 TO 03</td>\n",
              "      <td>67.0</td>\n",
              "      <td>New Generation</td>\n",
              "      <td>1980</td>\n",
              "      <td>62 years 05 months</td>\n",
              "      <td>265000.0</td>\n",
              "    </tr>\n",
              "  </tbody>\n",
              "</table>\n",
              "</div>"
            ],
            "text/plain": [
              "     month        town flat_type block        street_name storey_range  \\\n",
              "0  2017-01  ANG MO KIO    2 ROOM   406  ANG MO KIO AVE 10     10 TO 12   \n",
              "1  2017-01  ANG MO KIO    3 ROOM   108   ANG MO KIO AVE 4     01 TO 03   \n",
              "2  2017-01  ANG MO KIO    3 ROOM   602   ANG MO KIO AVE 5     01 TO 03   \n",
              "3  2017-01  ANG MO KIO    3 ROOM   465  ANG MO KIO AVE 10     04 TO 06   \n",
              "4  2017-01  ANG MO KIO    3 ROOM   601   ANG MO KIO AVE 5     01 TO 03   \n",
              "\n",
              "   floor_area_sqm      flat_model  lease_commence_date     remaining_lease  \\\n",
              "0            44.0        Improved                 1979  61 years 04 months   \n",
              "1            67.0  New Generation                 1978  60 years 07 months   \n",
              "2            67.0  New Generation                 1980  62 years 05 months   \n",
              "3            68.0  New Generation                 1980   62 years 01 month   \n",
              "4            67.0  New Generation                 1980  62 years 05 months   \n",
              "\n",
              "   resale_price  \n",
              "0      232000.0  \n",
              "1      250000.0  \n",
              "2      262000.0  \n",
              "3      265000.0  \n",
              "4      265000.0  "
            ]
          },
          "execution_count": 2,
          "metadata": {},
          "output_type": "execute_result"
        }
      ],
      "source": [
        "# Importing the data\n",
        "df = pd.read_csv('Flat_Prices.csv')\n",
        "df.head()"
      ]
    },
    {
      "cell_type": "code",
      "execution_count": null,
      "metadata": {
        "id": "2Id8HKR2FwGL",
        "outputId": "f555f0b7-0dd4-44ec-a9e2-8ec7e7e5f564"
      },
      "outputs": [
        {
          "data": {
            "text/plain": [
              "dtype('float64')"
            ]
          },
          "execution_count": 3,
          "metadata": {},
          "output_type": "execute_result"
        }
      ],
      "source": [
        "df[\"floor_area_sqm\"].dtype"
      ]
    },
    {
      "cell_type": "code",
      "execution_count": null,
      "metadata": {
        "id": "Y1Z8QuOvFwGM"
      },
      "outputs": [],
      "source": [
        "import re"
      ]
    },
    {
      "cell_type": "code",
      "execution_count": null,
      "metadata": {
        "id": "JHgbkfl6FwGN"
      },
      "outputs": [],
      "source": [
        "def myfunc(x):\n",
        "    t=re.findall(\"(.*) TO (.*)\",x)\n",
        "    avrg = (int(t[0][0])+int(t[0][1]))//2\n",
        "    return avrg\n"
      ]
    },
    {
      "cell_type": "code",
      "execution_count": null,
      "metadata": {
        "id": "BHrWjYhXFwGO"
      },
      "outputs": [],
      "source": [
        "df[\"storey_range\"]=df[\"storey_range\"].apply(myfunc)"
      ]
    },
    {
      "cell_type": "code",
      "execution_count": null,
      "metadata": {
        "colab": {
          "base_uri": "https://localhost:8080/"
        },
        "id": "nOB5vVGSINJN",
        "outputId": "0317edb3-c61f-42d8-8a80-fa8a255efaab"
      },
      "outputs": [
        {
          "name": "stdout",
          "output_type": "stream",
          "text": [
            "Shape of the data : (92270, 11)\n"
          ]
        }
      ],
      "source": [
        "# Getting the shape of the data\n",
        "print('Shape of the data :', df.shape)"
      ]
    },
    {
      "cell_type": "code",
      "execution_count": null,
      "metadata": {
        "colab": {
          "base_uri": "https://localhost:8080/"
        },
        "id": "jLURAMd0INJO",
        "outputId": "8604a6f1-787d-4a19-9c52-cdb98b27c9b5"
      },
      "outputs": [
        {
          "data": {
            "text/plain": [
              "month                  False\n",
              "town                   False\n",
              "flat_type              False\n",
              "block                  False\n",
              "street_name            False\n",
              "storey_range           False\n",
              "floor_area_sqm         False\n",
              "flat_model             False\n",
              "lease_commence_date    False\n",
              "remaining_lease        False\n",
              "resale_price           False\n",
              "dtype: bool"
            ]
          },
          "execution_count": 4,
          "metadata": {},
          "output_type": "execute_result"
        }
      ],
      "source": [
        "# Checking NULL values\n",
        "df.isnull().any()"
      ]
    },
    {
      "cell_type": "code",
      "execution_count": null,
      "metadata": {
        "colab": {
          "base_uri": "https://localhost:8080/"
        },
        "id": "QHxGuSdkINJP",
        "outputId": "750019af-0537-4ca3-a28b-a84a0a4c46be"
      },
      "outputs": [
        {
          "data": {
            "text/plain": [
              "month                  0\n",
              "town                   0\n",
              "flat_type              0\n",
              "block                  0\n",
              "street_name            0\n",
              "storey_range           0\n",
              "floor_area_sqm         0\n",
              "flat_model             0\n",
              "lease_commence_date    0\n",
              "remaining_lease        0\n",
              "resale_price           0\n",
              "dtype: int64"
            ]
          },
          "execution_count": 5,
          "metadata": {},
          "output_type": "execute_result"
        }
      ],
      "source": [
        "# Checking NULL values\n",
        "df.isnull().sum()"
      ]
    },
    {
      "cell_type": "code",
      "execution_count": null,
      "metadata": {
        "id": "3zLTOwgLINJQ"
      },
      "outputs": [],
      "source": [
        "# Simple Data Pre-Processing to convert 'remaining_lease' and 'storey_range'\n",
        "# in numerical format"
      ]
    },
    {
      "cell_type": "code",
      "execution_count": null,
      "metadata": {
        "colab": {
          "base_uri": "https://localhost:8080/",
          "height": 444
        },
        "id": "bwApKf50INJS",
        "outputId": "74472673-90c9-4851-9f31-a107a37f9404"
      },
      "outputs": [
        {
          "data": {
            "text/html": [
              "<div>\n",
              "<style scoped>\n",
              "    .dataframe tbody tr th:only-of-type {\n",
              "        vertical-align: middle;\n",
              "    }\n",
              "\n",
              "    .dataframe tbody tr th {\n",
              "        vertical-align: top;\n",
              "    }\n",
              "\n",
              "    .dataframe thead th {\n",
              "        text-align: right;\n",
              "    }\n",
              "</style>\n",
              "<table border=\"1\" class=\"dataframe\">\n",
              "  <thead>\n",
              "    <tr style=\"text-align: right;\">\n",
              "      <th></th>\n",
              "      <th>month</th>\n",
              "      <th>town</th>\n",
              "      <th>flat_type</th>\n",
              "      <th>block</th>\n",
              "      <th>street_name</th>\n",
              "      <th>floor_area_sqm</th>\n",
              "      <th>flat_model</th>\n",
              "      <th>lease_commence_date</th>\n",
              "      <th>remaining_lease</th>\n",
              "      <th>resale_price</th>\n",
              "      <th>storey_avg</th>\n",
              "      <th>storey_var</th>\n",
              "    </tr>\n",
              "  </thead>\n",
              "  <tbody>\n",
              "    <tr>\n",
              "      <th>0</th>\n",
              "      <td>2017-01</td>\n",
              "      <td>ANG MO KIO</td>\n",
              "      <td>2 ROOM</td>\n",
              "      <td>406</td>\n",
              "      <td>ANG MO KIO AVE 10</td>\n",
              "      <td>44.0</td>\n",
              "      <td>Improved</td>\n",
              "      <td>1979</td>\n",
              "      <td>61.333333</td>\n",
              "      <td>232000.0</td>\n",
              "      <td>11</td>\n",
              "      <td>1</td>\n",
              "    </tr>\n",
              "    <tr>\n",
              "      <th>1</th>\n",
              "      <td>2017-01</td>\n",
              "      <td>ANG MO KIO</td>\n",
              "      <td>3 ROOM</td>\n",
              "      <td>108</td>\n",
              "      <td>ANG MO KIO AVE 4</td>\n",
              "      <td>67.0</td>\n",
              "      <td>New Generation</td>\n",
              "      <td>1978</td>\n",
              "      <td>60.583333</td>\n",
              "      <td>250000.0</td>\n",
              "      <td>2</td>\n",
              "      <td>1</td>\n",
              "    </tr>\n",
              "    <tr>\n",
              "      <th>2</th>\n",
              "      <td>2017-01</td>\n",
              "      <td>ANG MO KIO</td>\n",
              "      <td>3 ROOM</td>\n",
              "      <td>602</td>\n",
              "      <td>ANG MO KIO AVE 5</td>\n",
              "      <td>67.0</td>\n",
              "      <td>New Generation</td>\n",
              "      <td>1980</td>\n",
              "      <td>62.416667</td>\n",
              "      <td>262000.0</td>\n",
              "      <td>2</td>\n",
              "      <td>1</td>\n",
              "    </tr>\n",
              "    <tr>\n",
              "      <th>3</th>\n",
              "      <td>2017-01</td>\n",
              "      <td>ANG MO KIO</td>\n",
              "      <td>3 ROOM</td>\n",
              "      <td>465</td>\n",
              "      <td>ANG MO KIO AVE 10</td>\n",
              "      <td>68.0</td>\n",
              "      <td>New Generation</td>\n",
              "      <td>1980</td>\n",
              "      <td>62.083333</td>\n",
              "      <td>265000.0</td>\n",
              "      <td>5</td>\n",
              "      <td>1</td>\n",
              "    </tr>\n",
              "    <tr>\n",
              "      <th>4</th>\n",
              "      <td>2017-01</td>\n",
              "      <td>ANG MO KIO</td>\n",
              "      <td>3 ROOM</td>\n",
              "      <td>601</td>\n",
              "      <td>ANG MO KIO AVE 5</td>\n",
              "      <td>67.0</td>\n",
              "      <td>New Generation</td>\n",
              "      <td>1980</td>\n",
              "      <td>62.416667</td>\n",
              "      <td>265000.0</td>\n",
              "      <td>2</td>\n",
              "      <td>1</td>\n",
              "    </tr>\n",
              "  </tbody>\n",
              "</table>\n",
              "</div>"
            ],
            "text/plain": [
              "     month        town flat_type block        street_name  floor_area_sqm  \\\n",
              "0  2017-01  ANG MO KIO    2 ROOM   406  ANG MO KIO AVE 10            44.0   \n",
              "1  2017-01  ANG MO KIO    3 ROOM   108   ANG MO KIO AVE 4            67.0   \n",
              "2  2017-01  ANG MO KIO    3 ROOM   602   ANG MO KIO AVE 5            67.0   \n",
              "3  2017-01  ANG MO KIO    3 ROOM   465  ANG MO KIO AVE 10            68.0   \n",
              "4  2017-01  ANG MO KIO    3 ROOM   601   ANG MO KIO AVE 5            67.0   \n",
              "\n",
              "       flat_model  lease_commence_date  remaining_lease  resale_price  \\\n",
              "0        Improved                 1979        61.333333      232000.0   \n",
              "1  New Generation                 1978        60.583333      250000.0   \n",
              "2  New Generation                 1980        62.416667      262000.0   \n",
              "3  New Generation                 1980        62.083333      265000.0   \n",
              "4  New Generation                 1980        62.416667      265000.0   \n",
              "\n",
              "   storey_avg  storey_var  \n",
              "0          11           1  \n",
              "1           2           1  \n",
              "2           2           1  \n",
              "3           5           1  \n",
              "4           2           1  "
            ]
          },
          "execution_count": 7,
          "metadata": {},
          "output_type": "execute_result"
        }
      ],
      "source": [
        "# dealing with columns mentioned above\n",
        "df.loc[:, 'storey_avg'] = 0\n",
        "df.loc[:, 'storey_var'] = 0\n",
        "\n",
        "for i in df.index:\n",
        "    tmp = df['remaining_lease'][i].split(' ')\n",
        "    if (len(tmp) == 2):\n",
        "        df['remaining_lease'][i] = float(tmp[0])\n",
        "    else:\n",
        "        df['remaining_lease'][i] = float(tmp[0]) + int(tmp[2])/ 12.0\n",
        "    \n",
        "    tmp = df['storey_range'][i].split(' ')\n",
        "    df['storey_avg'][i] = (float(tmp[0]) + float(tmp[2])) / 2.0\n",
        "    df['storey_var'][i] = df['storey_avg'][i] - float(tmp[0])\n",
        "\n",
        "del df['storey_range']\n",
        "\n",
        "df['remaining_lease'] = pd.DataFrame(df['remaining_lease'], dtype = np.float64)\n",
        "df.head()"
      ]
    },
    {
      "cell_type": "code",
      "execution_count": null,
      "metadata": {
        "colab": {
          "base_uri": "https://localhost:8080/",
          "height": 300
        },
        "id": "Nrxv0CsUINJV",
        "outputId": "c49c7aa2-6178-4036-9a65-fb9925ab3166"
      },
      "outputs": [
        {
          "data": {
            "text/html": [
              "<div>\n",
              "<style scoped>\n",
              "    .dataframe tbody tr th:only-of-type {\n",
              "        vertical-align: middle;\n",
              "    }\n",
              "\n",
              "    .dataframe tbody tr th {\n",
              "        vertical-align: top;\n",
              "    }\n",
              "\n",
              "    .dataframe thead th {\n",
              "        text-align: right;\n",
              "    }\n",
              "</style>\n",
              "<table border=\"1\" class=\"dataframe\">\n",
              "  <thead>\n",
              "    <tr style=\"text-align: right;\">\n",
              "      <th></th>\n",
              "      <th>floor_area_sqm</th>\n",
              "      <th>lease_commence_date</th>\n",
              "      <th>remaining_lease</th>\n",
              "      <th>resale_price</th>\n",
              "      <th>storey_avg</th>\n",
              "      <th>storey_var</th>\n",
              "    </tr>\n",
              "  </thead>\n",
              "  <tbody>\n",
              "    <tr>\n",
              "      <th>count</th>\n",
              "      <td>92270.000000</td>\n",
              "      <td>92270.000000</td>\n",
              "      <td>92270.000000</td>\n",
              "      <td>9.227000e+04</td>\n",
              "      <td>92270.000000</td>\n",
              "      <td>92270.0</td>\n",
              "    </tr>\n",
              "    <tr>\n",
              "      <th>mean</th>\n",
              "      <td>97.768362</td>\n",
              "      <td>1994.444175</td>\n",
              "      <td>74.773286</td>\n",
              "      <td>4.448869e+05</td>\n",
              "      <td>8.638853</td>\n",
              "      <td>1.0</td>\n",
              "    </tr>\n",
              "    <tr>\n",
              "      <th>std</th>\n",
              "      <td>24.263575</td>\n",
              "      <td>13.064066</td>\n",
              "      <td>13.020360</td>\n",
              "      <td>1.548243e+05</td>\n",
              "      <td>5.807275</td>\n",
              "      <td>0.0</td>\n",
              "    </tr>\n",
              "    <tr>\n",
              "      <th>min</th>\n",
              "      <td>31.000000</td>\n",
              "      <td>1966.000000</td>\n",
              "      <td>44.833333</td>\n",
              "      <td>1.400000e+05</td>\n",
              "      <td>2.000000</td>\n",
              "      <td>1.0</td>\n",
              "    </tr>\n",
              "    <tr>\n",
              "      <th>25%</th>\n",
              "      <td>82.000000</td>\n",
              "      <td>1984.000000</td>\n",
              "      <td>64.666667</td>\n",
              "      <td>3.330000e+05</td>\n",
              "      <td>5.000000</td>\n",
              "      <td>1.0</td>\n",
              "    </tr>\n",
              "    <tr>\n",
              "      <th>50%</th>\n",
              "      <td>95.000000</td>\n",
              "      <td>1995.000000</td>\n",
              "      <td>74.833333</td>\n",
              "      <td>4.150000e+05</td>\n",
              "      <td>8.000000</td>\n",
              "      <td>1.0</td>\n",
              "    </tr>\n",
              "    <tr>\n",
              "      <th>75%</th>\n",
              "      <td>113.000000</td>\n",
              "      <td>2003.000000</td>\n",
              "      <td>84.250000</td>\n",
              "      <td>5.200000e+05</td>\n",
              "      <td>11.000000</td>\n",
              "      <td>1.0</td>\n",
              "    </tr>\n",
              "    <tr>\n",
              "      <th>max</th>\n",
              "      <td>249.000000</td>\n",
              "      <td>2019.000000</td>\n",
              "      <td>97.750000</td>\n",
              "      <td>1.258000e+06</td>\n",
              "      <td>50.000000</td>\n",
              "      <td>1.0</td>\n",
              "    </tr>\n",
              "  </tbody>\n",
              "</table>\n",
              "</div>"
            ],
            "text/plain": [
              "       floor_area_sqm  lease_commence_date  remaining_lease  resale_price  \\\n",
              "count    92270.000000         92270.000000     92270.000000  9.227000e+04   \n",
              "mean        97.768362          1994.444175        74.773286  4.448869e+05   \n",
              "std         24.263575            13.064066        13.020360  1.548243e+05   \n",
              "min         31.000000          1966.000000        44.833333  1.400000e+05   \n",
              "25%         82.000000          1984.000000        64.666667  3.330000e+05   \n",
              "50%         95.000000          1995.000000        74.833333  4.150000e+05   \n",
              "75%        113.000000          2003.000000        84.250000  5.200000e+05   \n",
              "max        249.000000          2019.000000        97.750000  1.258000e+06   \n",
              "\n",
              "         storey_avg  storey_var  \n",
              "count  92270.000000     92270.0  \n",
              "mean       8.638853         1.0  \n",
              "std        5.807275         0.0  \n",
              "min        2.000000         1.0  \n",
              "25%        5.000000         1.0  \n",
              "50%        8.000000         1.0  \n",
              "75%       11.000000         1.0  \n",
              "max       50.000000         1.0  "
            ]
          },
          "execution_count": 8,
          "metadata": {},
          "output_type": "execute_result"
        }
      ],
      "source": [
        "# Getting Statistical Information\n",
        "df.describe()"
      ]
    },
    {
      "cell_type": "code",
      "execution_count": null,
      "metadata": {
        "colab": {
          "base_uri": "https://localhost:8080/",
          "height": 308
        },
        "id": "aCJhTyygINJX",
        "outputId": "41ba2a40-8cbc-4869-bc1a-7c1df00ccb69"
      },
      "outputs": [
        {
          "data": {
            "text/plain": [
              "<AxesSubplot: xlabel='resale_price', ylabel='Density'>"
            ]
          },
          "execution_count": 9,
          "metadata": {},
          "output_type": "execute_result"
        },
        {
          "data": {
            "image/png": "[encoded data removed]",
            "text/plain": [
              "<Figure size 640x480 with 1 Axes>"
            ]
          },
          "metadata": {},
          "output_type": "display_data"
        }
      ],
      "source": [
        "# Density Curve\n",
        "sns.distplot(df['resale_price'], kde = True)"
      ]
    },
    {
      "cell_type": "code",
      "execution_count": null,
      "metadata": {
        "id": "mXRVLgRVINJY"
      },
      "outputs": [],
      "source": [
        "# There are some outliers in the right tail region after 750000."
      ]
    },
    {
      "cell_type": "code",
      "execution_count": null,
      "metadata": {
        "colab": {
          "base_uri": "https://localhost:8080/",
          "height": 308
        },
        "id": "yUtegq3YINJZ",
        "outputId": "93232d89-bead-4ecd-f9b9-cb6c9a4ac0b2"
      },
      "outputs": [
        {
          "data": {
            "text/plain": [
              "<AxesSubplot: xlabel='floor_area_sqm', ylabel='resale_price'>"
            ]
          },
          "execution_count": 11,
          "metadata": {},
          "output_type": "execute_result"
        },
        {
          "data": {
            "image/png": "[encoded data removed]",
            "text/plain": [
              "<Figure size 640x480 with 1 Axes>"
            ]
          },
          "metadata": {},
          "output_type": "display_data"
        }
      ],
      "source": [
        "# Relationship between numerical input features\n",
        "data = pd.concat([df['resale_price'], df['floor_area_sqm']], axis = 1)\n",
        "data.plot.scatter(x = 'floor_area_sqm', y = 'resale_price')"
      ]
    },
    {
      "cell_type": "code",
      "execution_count": null,
      "metadata": {
        "id": "fZwN-SFGINJa"
      },
      "outputs": [],
      "source": [
        "# There is a weak positive correlation between floor area and resale price."
      ]
    },
    {
      "cell_type": "code",
      "execution_count": null,
      "metadata": {
        "colab": {
          "base_uri": "https://localhost:8080/",
          "height": 308
        },
        "id": "w_5nGw_HINJb",
        "outputId": "394604e6-f64f-409a-9164-b03111b8f82c"
      },
      "outputs": [
        {
          "data": {
            "text/plain": [
              "<AxesSubplot: xlabel='storey_avg', ylabel='resale_price'>"
            ]
          },
          "execution_count": 13,
          "metadata": {},
          "output_type": "execute_result"
        },
        {
          "data": {
            "image/png": "[encoded data removed]",
            "text/plain": [
              "<Figure size 640x480 with 1 Axes>"
            ]
          },
          "metadata": {},
          "output_type": "display_data"
        }
      ],
      "source": [
        "# Relationship between numerical input features\n",
        "data = pd.concat([df['resale_price'], df['storey_avg']], axis = 1)\n",
        "data.plot.scatter(x = 'storey_avg', y = 'resale_price')"
      ]
    },
    {
      "cell_type": "code",
      "execution_count": null,
      "metadata": {
        "id": "uOUSM78mINJc"
      },
      "outputs": [],
      "source": [
        "# There is approximately no correlation between storey avg and resale price."
      ]
    },
    {
      "cell_type": "code",
      "execution_count": null,
      "metadata": {
        "colab": {
          "base_uri": "https://localhost:8080/",
          "height": 308
        },
        "id": "twGIht5iINJd",
        "outputId": "fcd179d5-03c1-4881-e96a-af11bc0b9891"
      },
      "outputs": [
        {
          "data": {
            "text/plain": [
              "<AxesSubplot: xlabel='remaining_lease', ylabel='resale_price'>"
            ]
          },
          "execution_count": 15,
          "metadata": {},
          "output_type": "execute_result"
        },
        {
          "data": {
            "image/png": "[encoded data removed]",
            "text/plain": [
              "<Figure size 640x480 with 1 Axes>"
            ]
          },
          "metadata": {},
          "output_type": "display_data"
        }
      ],
      "source": [
        "# Relationship between numerical input features\n",
        "data = pd.concat([df['resale_price'], df['remaining_lease']], axis = 1)\n",
        "data.plot.scatter(x = 'remaining_lease', y = 'resale_price')"
      ]
    },
    {
      "cell_type": "code",
      "execution_count": null,
      "metadata": {
        "id": "t1ug-gJIINJe"
      },
      "outputs": [],
      "source": [
        "# The relationship between remaining lease and resale price is not clear."
      ]
    },
    {
      "cell_type": "code",
      "execution_count": null,
      "metadata": {
        "colab": {
          "base_uri": "https://localhost:8080/",
          "height": 457
        },
        "id": "FPGO0Zv_INJf",
        "outputId": "194b0d00-8857-4913-bb6e-9e9995bf92a5"
      },
      "outputs": [
        {
          "data": {
            "text/plain": [
              "Text(0.5, 1.0, 'Correlation betwen features')"
            ]
          },
          "execution_count": 17,
          "metadata": {},
          "output_type": "execute_result"
        },
        {
          "data": {
            "image/png": "[encoded data removed]",
            "text/plain": [
              "<Figure size 800x500 with 2 Axes>"
            ]
          },
          "metadata": {},
          "output_type": "display_data"
        }
      ],
      "source": [
        "# Correlation HeatMap\n",
        "plt.figure(figsize = (8, 5))\n",
        "sns.heatmap(df.corr(), cmap = 'RdBu', annot = True)\n",
        "plt.title('Correlation betwen features')"
      ]
    },
    {
      "cell_type": "code",
      "execution_count": null,
      "metadata": {
        "id": "iNjObly1INJg"
      },
      "outputs": [],
      "source": [
        "# We can drop storey_var feature.\n",
        "# floor_area_sqm is having a moderate positive relationship with resale_price.\n",
        "# lease_commencement_date and remaining_lease are perfectly correlated."
      ]
    },
    {
      "cell_type": "code",
      "execution_count": null,
      "metadata": {
        "id": "hpAWgtgPINJg"
      },
      "outputs": [],
      "source": [
        "# Chi-Squared Test\n",
        "# For testing independence of categorical features\n",
        "from scipy.stats import chi2_contingency\n",
        "\n",
        "# Function\n",
        "def test_cat_depend(feat1, feat2):\n",
        "    # grouping and counting\n",
        "    obs = pd.crosstab(df[feat1], df[feat2])\n",
        "    # chi2 test\n",
        "    chi2, p_val, dof, expecte = chi2_contingency(obs)\n",
        "    print('Test Result ({}, {}) :'.format(feat1, feat2))\n",
        "    print('-'*20)\n",
        "    print('p_val : {}'.format(p_val))\n",
        "    if (p_val < 0.05):\n",
        "        print('{} and {} are independent !'.format(feat1, feat2))\n",
        "    else:\n",
        "        print('{} and {} are dependent !'.format(feat1, feat2))\n",
        "    print('-'*20)"
      ]
    },
    {
      "cell_type": "code",
      "execution_count": null,
      "metadata": {
        "id": "SwNGH7QFINJh"
      },
      "outputs": [],
      "source": [
        "# Creating the list of numerical features and categorical features\n",
        "cat_feats = ['month','town','flat_type','block','street_name','flat_model']\n",
        "num_feats = ['floor_area_sqm','lease_commence_date','remaining_lease','storey_avg']"
      ]
    },
    {
      "cell_type": "code",
      "execution_count": null,
      "metadata": {
        "colab": {
          "base_uri": "https://localhost:8080/"
        },
        "id": "v_oh8UQVINJi",
        "outputId": "12ed0f09-6736-434a-9174-87e7e7dc0c32"
      },
      "outputs": [
        {
          "name": "stdout",
          "output_type": "stream",
          "text": [
            "Test Result (town, flat_type) :\n",
            "--------------------\n",
            "p_val : 0.0\n",
            "town and flat_type are independent !\n",
            "--------------------\n",
            "Test Result (town, block) :\n",
            "--------------------\n",
            "p_val : 0.0\n",
            "town and block are independent !\n",
            "--------------------\n",
            "Test Result (town, street_name) :\n",
            "--------------------\n",
            "p_val : 0.0\n",
            "town and street_name are independent !\n",
            "--------------------\n",
            "Test Result (town, flat_model) :\n",
            "--------------------\n",
            "p_val : 0.0\n",
            "town and flat_model are independent !\n",
            "--------------------\n",
            "Test Result (flat_type, block) :\n",
            "--------------------\n",
            "p_val : 0.0\n",
            "flat_type and block are independent !\n",
            "--------------------\n",
            "Test Result (flat_type, street_name) :\n",
            "--------------------\n",
            "p_val : 0.0\n",
            "flat_type and street_name are independent !\n",
            "--------------------\n",
            "Test Result (flat_type, flat_model) :\n",
            "--------------------\n",
            "p_val : 0.0\n",
            "flat_type and flat_model are independent !\n",
            "--------------------\n",
            "Test Result (block, street_name) :\n",
            "--------------------\n",
            "p_val : 0.0\n",
            "block and street_name are independent !\n",
            "--------------------\n",
            "Test Result (block, flat_model) :\n",
            "--------------------\n",
            "p_val : 0.0\n",
            "block and flat_model are independent !\n",
            "--------------------\n",
            "Test Result (street_name, flat_model) :\n",
            "--------------------\n",
            "p_val : 0.0\n",
            "street_name and flat_model are independent !\n",
            "--------------------\n"
          ]
        }
      ],
      "source": [
        "# Call Chi_Squared Function\n",
        "for i in range(1, len(cat_feats)-1):\n",
        "    for j in range(i+1, len(cat_feats)):\n",
        "        test_cat_depend(cat_feats[i], cat_feats[j])"
      ]
    },
    {
      "cell_type": "code",
      "execution_count": null,
      "metadata": {
        "id": "LIcFDEe6INJj"
      },
      "outputs": [],
      "source": [
        "# All the categorical features are independent."
      ]
    },
    {
      "cell_type": "code",
      "execution_count": null,
      "metadata": {
        "id": "e4DVEnYjINJk"
      },
      "outputs": [],
      "source": [
        "# ANOVA Test to select categorical features\n",
        "# from statsmodels.formula.api import ols\n",
        "# from statsmodels.stats.anova import anova_lm\n",
        "\n",
        "# tmp = ''\n",
        "# for i in range(len(cat_feats)):\n",
        "#     tmp += 'C({})+'.format(cat_feats[i])\n",
        "# tmp = tmp[:-1]\n",
        "\n",
        "# # Ordinary Least Square Model\n",
        "# model = ols('resale_price ~ {}'.format(tmp), df).fit()\n",
        "# anova_lm(model)"
      ]
    },
    {
      "cell_type": "code",
      "execution_count": null,
      "metadata": {
        "id": "wDDE-TmoINJm"
      },
      "outputs": [],
      "source": [
        "# Splitting the data into input features and target variable\n",
        "X = df.drop('resale_price', axis = 1)\n",
        "y = df['resale_price']"
      ]
    },
    {
      "cell_type": "code",
      "execution_count": null,
      "metadata": {
        "colab": {
          "base_uri": "https://localhost:8080/",
          "height": 411
        },
        "id": "ELSutYEsINJm",
        "outputId": "a8516f1e-9e49-43d0-c383-f5807e3b204a"
      },
      "outputs": [
        {
          "data": {
            "text/html": [
              "<div>\n",
              "<style scoped>\n",
              "    .dataframe tbody tr th:only-of-type {\n",
              "        vertical-align: middle;\n",
              "    }\n",
              "\n",
              "    .dataframe tbody tr th {\n",
              "        vertical-align: top;\n",
              "    }\n",
              "\n",
              "    .dataframe thead th {\n",
              "        text-align: right;\n",
              "    }\n",
              "</style>\n",
              "<table border=\"1\" class=\"dataframe\">\n",
              "  <thead>\n",
              "    <tr style=\"text-align: right;\">\n",
              "      <th></th>\n",
              "      <th>floor_area_sqm</th>\n",
              "      <th>lease_commence_date</th>\n",
              "      <th>remaining_lease</th>\n",
              "      <th>storey_avg</th>\n",
              "      <th>storey_var</th>\n",
              "      <th>month_2017-01</th>\n",
              "      <th>month_2017-02</th>\n",
              "      <th>month_2017-03</th>\n",
              "      <th>month_2017-04</th>\n",
              "      <th>month_2017-05</th>\n",
              "      <th>...</th>\n",
              "      <th>flat_model_Multi Generation</th>\n",
              "      <th>flat_model_New Generation</th>\n",
              "      <th>flat_model_Premium Apartment</th>\n",
              "      <th>flat_model_Premium Apartment Loft</th>\n",
              "      <th>flat_model_Premium Maisonette</th>\n",
              "      <th>flat_model_Simplified</th>\n",
              "      <th>flat_model_Standard</th>\n",
              "      <th>flat_model_Terrace</th>\n",
              "      <th>flat_model_Type S1</th>\n",
              "      <th>flat_model_Type S2</th>\n",
              "    </tr>\n",
              "  </thead>\n",
              "  <tbody>\n",
              "    <tr>\n",
              "      <th>count</th>\n",
              "      <td>9.227000e+04</td>\n",
              "      <td>9.227000e+04</td>\n",
              "      <td>9.227000e+04</td>\n",
              "      <td>9.227000e+04</td>\n",
              "      <td>92270.0</td>\n",
              "      <td>92270.000000</td>\n",
              "      <td>92270.000000</td>\n",
              "      <td>92270.000000</td>\n",
              "      <td>92270.000000</td>\n",
              "      <td>92270.000000</td>\n",
              "      <td>...</td>\n",
              "      <td>92270.000000</td>\n",
              "      <td>92270.000000</td>\n",
              "      <td>92270.000000</td>\n",
              "      <td>92270.000000</td>\n",
              "      <td>92270.000000</td>\n",
              "      <td>92270.000000</td>\n",
              "      <td>92270.000000</td>\n",
              "      <td>92270.000000</td>\n",
              "      <td>92270.000000</td>\n",
              "      <td>92270.000000</td>\n",
              "    </tr>\n",
              "    <tr>\n",
              "      <th>mean</th>\n",
              "      <td>-2.830774e-16</td>\n",
              "      <td>4.630271e-15</td>\n",
              "      <td>-1.047294e-17</td>\n",
              "      <td>2.094588e-17</td>\n",
              "      <td>1.0</td>\n",
              "      <td>0.012843</td>\n",
              "      <td>0.011759</td>\n",
              "      <td>0.020624</td>\n",
              "      <td>0.019931</td>\n",
              "      <td>0.021459</td>\n",
              "      <td>...</td>\n",
              "      <td>0.000477</td>\n",
              "      <td>0.134973</td>\n",
              "      <td>0.109776</td>\n",
              "      <td>0.000444</td>\n",
              "      <td>0.000119</td>\n",
              "      <td>0.040707</td>\n",
              "      <td>0.028406</td>\n",
              "      <td>0.000596</td>\n",
              "      <td>0.001593</td>\n",
              "      <td>0.000965</td>\n",
              "    </tr>\n",
              "    <tr>\n",
              "      <th>std</th>\n",
              "      <td>1.000005e+00</td>\n",
              "      <td>1.000005e+00</td>\n",
              "      <td>1.000005e+00</td>\n",
              "      <td>1.000005e+00</td>\n",
              "      <td>0.0</td>\n",
              "      <td>0.112596</td>\n",
              "      <td>0.107800</td>\n",
              "      <td>0.142124</td>\n",
              "      <td>0.139763</td>\n",
              "      <td>0.144909</td>\n",
              "      <td>...</td>\n",
              "      <td>0.021832</td>\n",
              "      <td>0.341697</td>\n",
              "      <td>0.312612</td>\n",
              "      <td>0.021075</td>\n",
              "      <td>0.010918</td>\n",
              "      <td>0.197611</td>\n",
              "      <td>0.166130</td>\n",
              "      <td>0.024408</td>\n",
              "      <td>0.039883</td>\n",
              "      <td>0.031043</td>\n",
              "    </tr>\n",
              "    <tr>\n",
              "      <th>min</th>\n",
              "      <td>-2.751809e+00</td>\n",
              "      <td>-2.177295e+00</td>\n",
              "      <td>-2.299484e+00</td>\n",
              "      <td>-1.143202e+00</td>\n",
              "      <td>1.0</td>\n",
              "      <td>0.000000</td>\n",
              "      <td>0.000000</td>\n",
              "      <td>0.000000</td>\n",
              "      <td>0.000000</td>\n",
              "      <td>0.000000</td>\n",
              "      <td>...</td>\n",
              "      <td>0.000000</td>\n",
              "      <td>0.000000</td>\n",
              "      <td>0.000000</td>\n",
              "      <td>0.000000</td>\n",
              "      <td>0.000000</td>\n",
              "      <td>0.000000</td>\n",
              "      <td>0.000000</td>\n",
              "      <td>0.000000</td>\n",
              "      <td>0.000000</td>\n",
              "      <td>0.000000</td>\n",
              "    </tr>\n",
              "    <tr>\n",
              "      <th>25%</th>\n",
              "      <td>-6.498815e-01</td>\n",
              "      <td>-7.994625e-01</td>\n",
              "      <td>-7.762208e-01</td>\n",
              "      <td>-6.266060e-01</td>\n",
              "      <td>1.0</td>\n",
              "      <td>0.000000</td>\n",
              "      <td>0.000000</td>\n",
              "      <td>0.000000</td>\n",
              "      <td>0.000000</td>\n",
              "      <td>0.000000</td>\n",
              "      <td>...</td>\n",
              "      <td>0.000000</td>\n",
              "      <td>0.000000</td>\n",
              "      <td>0.000000</td>\n",
              "      <td>0.000000</td>\n",
              "      <td>0.000000</td>\n",
              "      <td>0.000000</td>\n",
              "      <td>0.000000</td>\n",
              "      <td>0.000000</td>\n",
              "      <td>0.000000</td>\n",
              "      <td>0.000000</td>\n",
              "    </tr>\n",
              "    <tr>\n",
              "      <th>50%</th>\n",
              "      <td>-1.140960e-01</td>\n",
              "      <td>4.254635e-02</td>\n",
              "      <td>4.611841e-03</td>\n",
              "      <td>-1.100097e-01</td>\n",
              "      <td>1.0</td>\n",
              "      <td>0.000000</td>\n",
              "      <td>0.000000</td>\n",
              "      <td>0.000000</td>\n",
              "      <td>0.000000</td>\n",
              "      <td>0.000000</td>\n",
              "      <td>...</td>\n",
              "      <td>0.000000</td>\n",
              "      <td>0.000000</td>\n",
              "      <td>0.000000</td>\n",
              "      <td>0.000000</td>\n",
              "      <td>0.000000</td>\n",
              "      <td>0.000000</td>\n",
              "      <td>0.000000</td>\n",
              "      <td>0.000000</td>\n",
              "      <td>0.000000</td>\n",
              "      <td>0.000000</td>\n",
              "    </tr>\n",
              "    <tr>\n",
              "      <th>75%</th>\n",
              "      <td>6.277607e-01</td>\n",
              "      <td>6.549164e-01</td>\n",
              "      <td>7.278421e-01</td>\n",
              "      <td>4.065865e-01</td>\n",
              "      <td>1.0</td>\n",
              "      <td>0.000000</td>\n",
              "      <td>0.000000</td>\n",
              "      <td>0.000000</td>\n",
              "      <td>0.000000</td>\n",
              "      <td>0.000000</td>\n",
              "      <td>...</td>\n",
              "      <td>0.000000</td>\n",
              "      <td>0.000000</td>\n",
              "      <td>0.000000</td>\n",
              "      <td>0.000000</td>\n",
              "      <td>0.000000</td>\n",
              "      <td>0.000000</td>\n",
              "      <td>0.000000</td>\n",
              "      <td>0.000000</td>\n",
              "      <td>0.000000</td>\n",
              "      <td>0.000000</td>\n",
              "    </tr>\n",
              "    <tr>\n",
              "      <th>max</th>\n",
              "      <td>6.232901e+00</td>\n",
              "      <td>1.879657e+00</td>\n",
              "      <td>1.764685e+00</td>\n",
              "      <td>7.122337e+00</td>\n",
              "      <td>1.0</td>\n",
              "      <td>1.000000</td>\n",
              "      <td>1.000000</td>\n",
              "      <td>1.000000</td>\n",
              "      <td>1.000000</td>\n",
              "      <td>1.000000</td>\n",
              "      <td>...</td>\n",
              "      <td>1.000000</td>\n",
              "      <td>1.000000</td>\n",
              "      <td>1.000000</td>\n",
              "      <td>1.000000</td>\n",
              "      <td>1.000000</td>\n",
              "      <td>1.000000</td>\n",
              "      <td>1.000000</td>\n",
              "      <td>1.000000</td>\n",
              "      <td>1.000000</td>\n",
              "      <td>1.000000</td>\n",
              "    </tr>\n",
              "  </tbody>\n",
              "</table>\n",
              "<p>8 rows × 3150 columns</p>\n",
              "</div>"
            ],
            "text/plain": [
              "       floor_area_sqm  lease_commence_date  remaining_lease    storey_avg  \\\n",
              "count    9.227000e+04         9.227000e+04     9.227000e+04  9.227000e+04   \n",
              "mean    -2.830774e-16         4.630271e-15    -1.047294e-17  2.094588e-17   \n",
              "std      1.000005e+00         1.000005e+00     1.000005e+00  1.000005e+00   \n",
              "min     -2.751809e+00        -2.177295e+00    -2.299484e+00 -1.143202e+00   \n",
              "25%     -6.498815e-01        -7.994625e-01    -7.762208e-01 -6.266060e-01   \n",
              "50%     -1.140960e-01         4.254635e-02     4.611841e-03 -1.100097e-01   \n",
              "75%      6.277607e-01         6.549164e-01     7.278421e-01  4.065865e-01   \n",
              "max      6.232901e+00         1.879657e+00     1.764685e+00  7.122337e+00   \n",
              "\n",
              "       storey_var  month_2017-01  month_2017-02  month_2017-03  month_2017-04  \\\n",
              "count     92270.0   92270.000000   92270.000000   92270.000000   92270.000000   \n",
              "mean          1.0       0.012843       0.011759       0.020624       0.019931   \n",
              "std           0.0       0.112596       0.107800       0.142124       0.139763   \n",
              "min           1.0       0.000000       0.000000       0.000000       0.000000   \n",
              "25%           1.0       0.000000       0.000000       0.000000       0.000000   \n",
              "50%           1.0       0.000000       0.000000       0.000000       0.000000   \n",
              "75%           1.0       0.000000       0.000000       0.000000       0.000000   \n",
              "max           1.0       1.000000       1.000000       1.000000       1.000000   \n",
              "\n",
              "       month_2017-05  ...  flat_model_Multi Generation  \\\n",
              "count   92270.000000  ...                 92270.000000   \n",
              "mean        0.021459  ...                     0.000477   \n",
              "std         0.144909  ...                     0.021832   \n",
              "min         0.000000  ...                     0.000000   \n",
              "25%         0.000000  ...                     0.000000   \n",
              "50%         0.000000  ...                     0.000000   \n",
              "75%         0.000000  ...                     0.000000   \n",
              "max         1.000000  ...                     1.000000   \n",
              "\n",
              "       flat_model_New Generation  flat_model_Premium Apartment  \\\n",
              "count               92270.000000                  92270.000000   \n",
              "mean                    0.134973                      0.109776   \n",
              "std                     0.341697                      0.312612   \n",
              "min                     0.000000                      0.000000   \n",
              "25%                     0.000000                      0.000000   \n",
              "50%                     0.000000                      0.000000   \n",
              "75%                     0.000000                      0.000000   \n",
              "max                     1.000000                      1.000000   \n",
              "\n",
              "       flat_model_Premium Apartment Loft  flat_model_Premium Maisonette  \\\n",
              "count                       92270.000000                   92270.000000   \n",
              "mean                            0.000444                       0.000119   \n",
              "std                             0.021075                       0.010918   \n",
              "min                             0.000000                       0.000000   \n",
              "25%                             0.000000                       0.000000   \n",
              "50%                             0.000000                       0.000000   \n",
              "75%                             0.000000                       0.000000   \n",
              "max                             1.000000                       1.000000   \n",
              "\n",
              "       flat_model_Simplified  flat_model_Standard  flat_model_Terrace  \\\n",
              "count           92270.000000         92270.000000        92270.000000   \n",
              "mean                0.040707             0.028406            0.000596   \n",
              "std                 0.197611             0.166130            0.024408   \n",
              "min                 0.000000             0.000000            0.000000   \n",
              "25%                 0.000000             0.000000            0.000000   \n",
              "50%                 0.000000             0.000000            0.000000   \n",
              "75%                 0.000000             0.000000            0.000000   \n",
              "max                 1.000000             1.000000            1.000000   \n",
              "\n",
              "       flat_model_Type S1  flat_model_Type S2  \n",
              "count        92270.000000        92270.000000  \n",
              "mean             0.001593            0.000965  \n",
              "std              0.039883            0.031043  \n",
              "min              0.000000            0.000000  \n",
              "25%              0.000000            0.000000  \n",
              "50%              0.000000            0.000000  \n",
              "75%              0.000000            0.000000  \n",
              "max              1.000000            1.000000  \n",
              "\n",
              "[8 rows x 3150 columns]"
            ]
          },
          "execution_count": 25,
          "metadata": {},
          "output_type": "execute_result"
        }
      ],
      "source": [
        "# One Hot Encoding and Standardizing\n",
        "from sklearn.preprocessing import StandardScaler\n",
        "# use pd.get_dummies for OHE\n",
        "X = pd.get_dummies(X, columns = cat_feats)\n",
        "\n",
        "# Use StandardScaler to Standardize\n",
        "scaler = StandardScaler()\n",
        "X[num_feats] = scaler.fit_transform(X[num_feats])\n",
        "\n",
        "# Getting Statistical properties\n",
        "X.describe()"
      ]
    },
    {
      "cell_type": "code",
      "execution_count": null,
      "metadata": {
        "id": "hVodfNLWINJn"
      },
      "outputs": [],
      "source": [
        "# Train Test Split\n",
        "from sklearn.model_selection import train_test_split\n",
        "X_train, X_test, y_train, y_test = train_test_split(X, y, test_size = 0.25)"
      ]
    },
    {
      "cell_type": "code",
      "execution_count": null,
      "metadata": {
        "id": "_SRjW_9gFwGd",
        "outputId": "46d193f1-8006-44e9-9616-fd63a97a38e7"
      },
      "outputs": [
        {
          "data": {
            "text/html": [
              "<style>#sk-container-id-1 {color: black;background-color: white;}#sk-container-id-1 pre{padding: 0;}#sk-container-id-1 div.sk-toggleable {background-color: white;}#sk-container-id-1 label.sk-toggleable__label {cursor: pointer;display: block;width: 100%;margin-bottom: 0;padding: 0.3em;box-sizing: border-box;text-align: center;}#sk-container-id-1 label.sk-toggleable__label-arrow:before {content: \"▸\";float: left;margin-right: 0.25em;color: #696969;}#sk-container-id-1 label.sk-toggleable__label-arrow:hover:before {color: black;}#sk-container-id-1 div.sk-estimator:hover label.sk-toggleable__label-arrow:before {color: black;}#sk-container-id-1 div.sk-toggleable__content {max-height: 0;max-width: 0;overflow: hidden;text-align: left;background-color: #f0f8ff;}#sk-container-id-1 div.sk-toggleable__content pre {margin: 0.2em;color: black;border-radius: 0.25em;background-color: #f0f8ff;}#sk-container-id-1 input.sk-toggleable__control:checked~div.sk-toggleable__content {max-height: 200px;max-width: 100%;overflow: auto;}#sk-container-id-1 input.sk-toggleable__control:checked~label.sk-toggleable__label-arrow:before {content: \"▾\";}#sk-container-id-1 div.sk-estimator input.sk-toggleable__control:checked~label.sk-toggleable__label {background-color: #d4ebff;}#sk-container-id-1 div.sk-label input.sk-toggleable__control:checked~label.sk-toggleable__label {background-color: #d4ebff;}#sk-container-id-1 input.sk-hidden--visually {border: 0;clip: rect(1px 1px 1px 1px);clip: rect(1px, 1px, 1px, 1px);height: 1px;margin: -1px;overflow: hidden;padding: 0;position: absolute;width: 1px;}#sk-container-id-1 div.sk-estimator {font-family: monospace;background-color: #f0f8ff;border: 1px dotted black;border-radius: 0.25em;box-sizing: border-box;margin-bottom: 0.5em;}#sk-container-id-1 div.sk-estimator:hover {background-color: #d4ebff;}#sk-container-id-1 div.sk-parallel-item::after {content: \"\";width: 100%;border-bottom: 1px solid gray;flex-grow: 1;}#sk-container-id-1 div.sk-label:hover label.sk-toggleable__label {background-color: #d4ebff;}#sk-container-id-1 div.sk-serial::before {content: \"\";position: absolute;border-left: 1px solid gray;box-sizing: border-box;top: 0;bottom: 0;left: 50%;z-index: 0;}#sk-container-id-1 div.sk-serial {display: flex;flex-direction: column;align-items: center;background-color: white;padding-right: 0.2em;padding-left: 0.2em;position: relative;}#sk-container-id-1 div.sk-item {position: relative;z-index: 1;}#sk-container-id-1 div.sk-parallel {display: flex;align-items: stretch;justify-content: center;background-color: white;position: relative;}#sk-container-id-1 div.sk-item::before, #sk-container-id-1 div.sk-parallel-item::before {content: \"\";position: absolute;border-left: 1px solid gray;box-sizing: border-box;top: 0;bottom: 0;left: 50%;z-index: -1;}#sk-container-id-1 div.sk-parallel-item {display: flex;flex-direction: column;z-index: 1;position: relative;background-color: white;}#sk-container-id-1 div.sk-parallel-item:first-child::after {align-self: flex-end;width: 50%;}#sk-container-id-1 div.sk-parallel-item:last-child::after {align-self: flex-start;width: 50%;}#sk-container-id-1 div.sk-parallel-item:only-child::after {width: 0;}#sk-container-id-1 div.sk-dashed-wrapped {border: 1px dashed gray;margin: 0 0.4em 0.5em 0.4em;box-sizing: border-box;padding-bottom: 0.4em;background-color: white;}#sk-container-id-1 div.sk-label label {font-family: monospace;font-weight: bold;display: inline-block;line-height: 1.2em;}#sk-container-id-1 div.sk-label-container {text-align: center;}#sk-container-id-1 div.sk-container {/* jupyter's `normalize.less` sets `[hidden] { display: none; }` but bootstrap.min.css set `[hidden] { display: none !important; }` so we also need the `!important` here to be able to override the default hidden behavior on the sphinx rendered scikit-learn.org. See: https://github.com/scikit-learn/scikit-learn/issues/21755 */display: inline-block !important;position: relative;}#sk-container-id-1 div.sk-text-repr-fallback {display: none;}</style><div id=\"sk-container-id-1\" class=\"sk-top-container\"><div class=\"sk-text-repr-fallback\"><pre>RandomForestRegressor(n_estimators=10, random_state=0)</pre><b>In a Jupyter environment, please rerun this cell to show the HTML representation or trust the notebook. <br />On GitHub, the HTML representation is unable to render, please try loading this page with nbviewer.org.</b></div><div class=\"sk-container\" hidden><div class=\"sk-item\"><div class=\"sk-estimator sk-toggleable\"><input class=\"sk-toggleable__control sk-hidden--visually\" id=\"sk-estimator-id-1\" type=\"checkbox\" checked><label for=\"sk-estimator-id-1\" class=\"sk-toggleable__label sk-toggleable__label-arrow\">RandomForestRegressor</label><div class=\"sk-toggleable__content\"><pre>RandomForestRegressor(n_estimators=10, random_state=0)</pre></div></div></div></div></div>"
            ],
            "text/plain": [
              "RandomForestRegressor(n_estimators=10, random_state=0)"
            ]
          },
          "execution_count": 27,
          "metadata": {},
          "output_type": "execute_result"
        }
      ],
      "source": [
        "from sklearn.ensemble import RandomForestRegressor\n",
        "regressor = RandomForestRegressor(n_estimators = 10, random_state = 0)\n",
        "regressor.fit(X_train,y_train)"
      ]
    },
    {
      "cell_type": "code",
      "execution_count": null,
      "metadata": {
        "id": "sSYCkwfBFwGd"
      },
      "outputs": [],
      "source": [
        "y_rpred = regressor.predict(X_test)"
      ]
    },
    {
      "cell_type": "code",
      "execution_count": null,
      "metadata": {
        "id": "_mm3Q42eFwGd",
        "outputId": "ae03f270-845b-4c56-d55d-08bfa16b7ac7"
      },
      "outputs": [
        {
          "data": {
            "text/plain": [
              "<matplotlib.collections.PathCollection at 0x180916a0090>"
            ]
          },
          "execution_count": 42,
          "metadata": {},
          "output_type": "execute_result"
        },
        {
          "data": {
            "image/png": "[encoded data removed]",
            "text/plain": [
              "<Figure size 640x480 with 1 Axes>"
            ]
          },
          "metadata": {},
          "output_type": "display_data"
        }
      ],
      "source": [
        "plt.scatter(tt,y_rpred)"
      ]
    },
    {
      "cell_type": "code",
      "execution_count": null,
      "metadata": {
        "id": "8Z0JT5hMFwGe"
      },
      "outputs": [],
      "source": [
        "X=np.arange(0,100,2)"
      ]
    },
    {
      "cell_type": "code",
      "execution_count": null,
      "metadata": {
        "id": "-FP3GF_YFwGe",
        "outputId": "a5c88d3e-c9cc-40a3-9a46-22aaf5bdac61"
      },
      "outputs": [
        {
          "data": {
            "text/plain": [
              "array([ 0,  2,  4,  6,  8, 10, 12, 14, 16, 18, 20, 22, 24, 26, 28, 30, 32,\n",
              "       34, 36, 38, 40, 42, 44, 46, 48, 50, 52, 54, 56, 58, 60, 62, 64, 66,\n",
              "       68, 70, 72, 74, 76, 78, 80, 82, 84, 86, 88, 90, 92, 94, 96, 98])"
            ]
          },
          "execution_count": 84,
          "metadata": {},
          "output_type": "execute_result"
        }
      ],
      "source": [
        "X"
      ]
    },
    {
      "cell_type": "code",
      "execution_count": null,
      "metadata": {
        "id": "Y3WW4wlFFwGe",
        "outputId": "046110e3-804b-4e69-fc6b-e38dc97bcabc"
      },
      "outputs": [
        {
          "data": {
            "image/png": "[encoded data removed]",
            "text/plain": [
              "<Figure size 1200x800 with 1 Axes>"
            ]
          },
          "metadata": {},
          "output_type": "display_data"
        }
      ],
      "source": [
        "fig = plt.subplots(figsize =(12, 8))\n",
        "plt.bar(x=X,height=tt.flatten()[:50],color=\"red\",width=1)\n",
        "plt.bar(x=X+1,height=y_rpred.flatten()[:50],color=\"blue\",width=1)\n",
        "plt.xticks([])\n",
        "plt.show()"
      ]
    },
    {
      "cell_type": "code",
      "execution_count": null,
      "metadata": {
        "id": "aBJOrU4NFwGe"
      },
      "outputs": [],
      "source": [
        "# Defining functions for model evaluation\n",
        "# Importing important libraries\n",
        "from sklearn.metrics import r2_score, mean_absolute_error, mean_squared_error\n",
        "from sklearn.model_selection import cross_val_score\n",
        "\n",
        "def evaluation(y_true, y_pred):\n",
        "    mse = mean_squared_error(y_true, y_pred)\n",
        "    rmse = np.sqrt(mean_squared_error(y_true, y_pred))\n",
        "    r_squared = r2_score(y_true, y_pred)\n",
        "    return r_squared\n",
        "\n"
      ]
    },
    {
      "cell_type": "code",
      "execution_count": null,
      "metadata": {
        "id": "R_WECYwfFwGf",
        "outputId": "ef564cd0-1ce1-46cb-e82a-90ae74cdafd2"
      },
      "outputs": [
        {
          "name": "stdout",
          "output_type": "stream",
          "text": [
            "RMSE : 0.9658687480362131\n"
          ]
        }
      ],
      "source": [
        "rmse = evaluation(y_test, y_pred)\n",
        "print('RMSE :', rmse)"
      ]
    },
    {
      "cell_type": "code",
      "execution_count": null,
      "metadata": {
        "id": "0_Lcp63RFwGf",
        "outputId": "e50c2b2f-4909-4391-bafb-b4956511e80a"
      },
      "outputs": [
        {
          "data": {
            "text/html": [
              "<style>#sk-container-id-2 {color: black;background-color: white;}#sk-container-id-2 pre{padding: 0;}#sk-container-id-2 div.sk-toggleable {background-color: white;}#sk-container-id-2 label.sk-toggleable__label {cursor: pointer;display: block;width: 100%;margin-bottom: 0;padding: 0.3em;box-sizing: border-box;text-align: center;}#sk-container-id-2 label.sk-toggleable__label-arrow:before {content: \"▸\";float: left;margin-right: 0.25em;color: #696969;}#sk-container-id-2 label.sk-toggleable__label-arrow:hover:before {color: black;}#sk-container-id-2 div.sk-estimator:hover label.sk-toggleable__label-arrow:before {color: black;}#sk-container-id-2 div.sk-toggleable__content {max-height: 0;max-width: 0;overflow: hidden;text-align: left;background-color: #f0f8ff;}#sk-container-id-2 div.sk-toggleable__content pre {margin: 0.2em;color: black;border-radius: 0.25em;background-color: #f0f8ff;}#sk-container-id-2 input.sk-toggleable__control:checked~div.sk-toggleable__content {max-height: 200px;max-width: 100%;overflow: auto;}#sk-container-id-2 input.sk-toggleable__control:checked~label.sk-toggleable__label-arrow:before {content: \"▾\";}#sk-container-id-2 div.sk-estimator input.sk-toggleable__control:checked~label.sk-toggleable__label {background-color: #d4ebff;}#sk-container-id-2 div.sk-label input.sk-toggleable__control:checked~label.sk-toggleable__label {background-color: #d4ebff;}#sk-container-id-2 input.sk-hidden--visually {border: 0;clip: rect(1px 1px 1px 1px);clip: rect(1px, 1px, 1px, 1px);height: 1px;margin: -1px;overflow: hidden;padding: 0;position: absolute;width: 1px;}#sk-container-id-2 div.sk-estimator {font-family: monospace;background-color: #f0f8ff;border: 1px dotted black;border-radius: 0.25em;box-sizing: border-box;margin-bottom: 0.5em;}#sk-container-id-2 div.sk-estimator:hover {background-color: #d4ebff;}#sk-container-id-2 div.sk-parallel-item::after {content: \"\";width: 100%;border-bottom: 1px solid gray;flex-grow: 1;}#sk-container-id-2 div.sk-label:hover label.sk-toggleable__label {background-color: #d4ebff;}#sk-container-id-2 div.sk-serial::before {content: \"\";position: absolute;border-left: 1px solid gray;box-sizing: border-box;top: 0;bottom: 0;left: 50%;z-index: 0;}#sk-container-id-2 div.sk-serial {display: flex;flex-direction: column;align-items: center;background-color: white;padding-right: 0.2em;padding-left: 0.2em;position: relative;}#sk-container-id-2 div.sk-item {position: relative;z-index: 1;}#sk-container-id-2 div.sk-parallel {display: flex;align-items: stretch;justify-content: center;background-color: white;position: relative;}#sk-container-id-2 div.sk-item::before, #sk-container-id-2 div.sk-parallel-item::before {content: \"\";position: absolute;border-left: 1px solid gray;box-sizing: border-box;top: 0;bottom: 0;left: 50%;z-index: -1;}#sk-container-id-2 div.sk-parallel-item {display: flex;flex-direction: column;z-index: 1;position: relative;background-color: white;}#sk-container-id-2 div.sk-parallel-item:first-child::after {align-self: flex-end;width: 50%;}#sk-container-id-2 div.sk-parallel-item:last-child::after {align-self: flex-start;width: 50%;}#sk-container-id-2 div.sk-parallel-item:only-child::after {width: 0;}#sk-container-id-2 div.sk-dashed-wrapped {border: 1px dashed gray;margin: 0 0.4em 0.5em 0.4em;box-sizing: border-box;padding-bottom: 0.4em;background-color: white;}#sk-container-id-2 div.sk-label label {font-family: monospace;font-weight: bold;display: inline-block;line-height: 1.2em;}#sk-container-id-2 div.sk-label-container {text-align: center;}#sk-container-id-2 div.sk-container {/* jupyter's `normalize.less` sets `[hidden] { display: none; }` but bootstrap.min.css set `[hidden] { display: none !important; }` so we also need the `!important` here to be able to override the default hidden behavior on the sphinx rendered scikit-learn.org. See: https://github.com/scikit-learn/scikit-learn/issues/21755 */display: inline-block !important;position: relative;}#sk-container-id-2 div.sk-text-repr-fallback {display: none;}</style><div id=\"sk-container-id-2\" class=\"sk-top-container\"><div class=\"sk-text-repr-fallback\"><pre>DecisionTreeRegressor(random_state=0)</pre><b>In a Jupyter environment, please rerun this cell to show the HTML representation or trust the notebook. <br />On GitHub, the HTML representation is unable to render, please try loading this page with nbviewer.org.</b></div><div class=\"sk-container\" hidden><div class=\"sk-item\"><div class=\"sk-estimator sk-toggleable\"><input class=\"sk-toggleable__control sk-hidden--visually\" id=\"sk-estimator-id-2\" type=\"checkbox\" checked><label for=\"sk-estimator-id-2\" class=\"sk-toggleable__label sk-toggleable__label-arrow\">DecisionTreeRegressor</label><div class=\"sk-toggleable__content\"><pre>DecisionTreeRegressor(random_state=0)</pre></div></div></div></div></div>"
            ],
            "text/plain": [
              "DecisionTreeRegressor(random_state=0)"
            ]
          },
          "execution_count": 31,
          "metadata": {},
          "output_type": "execute_result"
        }
      ],
      "source": [
        "from sklearn.tree import DecisionTreeRegressor\n",
        "dregressor = DecisionTreeRegressor(random_state = 0)\n",
        "dregressor.fit(X_train, y_train)"
      ]
    },
    {
      "cell_type": "code",
      "execution_count": null,
      "metadata": {
        "id": "wl3x-VgdFwGf"
      },
      "outputs": [],
      "source": [
        "y_dpred = dregressor.predict(X_test)"
      ]
    },
    {
      "cell_type": "code",
      "execution_count": null,
      "metadata": {
        "id": "GL41H_iNFwGf",
        "outputId": "b329272c-fe35-4757-c314-123f42faa151"
      },
      "outputs": [
        {
          "name": "stdout",
          "output_type": "stream",
          "text": [
            "RMSE : 0.9469193292420804\n"
          ]
        }
      ],
      "source": [
        "d_rmse = evaluation(y_test, y_dpred)\n",
        "print('RMSE :', d_rmse)"
      ]
    },
    {
      "cell_type": "code",
      "execution_count": null,
      "metadata": {
        "id": "sPfyElIKFwGg",
        "outputId": "4a7cc786-de61-402e-87a6-1a235f8b8890"
      },
      "outputs": [
        {
          "data": {
            "text/plain": [
              "<matplotlib.collections.PathCollection at 0x1809169b810>"
            ]
          },
          "execution_count": 40,
          "metadata": {},
          "output_type": "execute_result"
        },
        {
          "data": {
            "image/png": "[encoded data removed]",
            "text/plain": [
              "<Figure size 640x480 with 1 Axes>"
            ]
          },
          "metadata": {},
          "output_type": "display_data"
        }
      ],
      "source": [
        "plt.scatter(tt,y_dpred)"
      ]
    },
    {
      "cell_type": "code",
      "execution_count": null,
      "metadata": {
        "id": "peJstHyEFwGg"
      },
      "outputs": [],
      "source": [
        "import xgboost as xgb"
      ]
    },
    {
      "cell_type": "code",
      "execution_count": null,
      "metadata": {
        "id": "RgSmHAOnFwGg",
        "outputId": "eb7ad7cd-0bab-4e7c-be14-697484891c8b"
      },
      "outputs": [
        {
          "data": {
            "text/html": [
              "<style>#sk-container-id-3 {color: black;background-color: white;}#sk-container-id-3 pre{padding: 0;}#sk-container-id-3 div.sk-toggleable {background-color: white;}#sk-container-id-3 label.sk-toggleable__label {cursor: pointer;display: block;width: 100%;margin-bottom: 0;padding: 0.3em;box-sizing: border-box;text-align: center;}#sk-container-id-3 label.sk-toggleable__label-arrow:before {content: \"▸\";float: left;margin-right: 0.25em;color: #696969;}#sk-container-id-3 label.sk-toggleable__label-arrow:hover:before {color: black;}#sk-container-id-3 div.sk-estimator:hover label.sk-toggleable__label-arrow:before {color: black;}#sk-container-id-3 div.sk-toggleable__content {max-height: 0;max-width: 0;overflow: hidden;text-align: left;background-color: #f0f8ff;}#sk-container-id-3 div.sk-toggleable__content pre {margin: 0.2em;color: black;border-radius: 0.25em;background-color: #f0f8ff;}#sk-container-id-3 input.sk-toggleable__control:checked~div.sk-toggleable__content {max-height: 200px;max-width: 100%;overflow: auto;}#sk-container-id-3 input.sk-toggleable__control:checked~label.sk-toggleable__label-arrow:before {content: \"▾\";}#sk-container-id-3 div.sk-estimator input.sk-toggleable__control:checked~label.sk-toggleable__label {background-color: #d4ebff;}#sk-container-id-3 div.sk-label input.sk-toggleable__control:checked~label.sk-toggleable__label {background-color: #d4ebff;}#sk-container-id-3 input.sk-hidden--visually {border: 0;clip: rect(1px 1px 1px 1px);clip: rect(1px, 1px, 1px, 1px);height: 1px;margin: -1px;overflow: hidden;padding: 0;position: absolute;width: 1px;}#sk-container-id-3 div.sk-estimator {font-family: monospace;background-color: #f0f8ff;border: 1px dotted black;border-radius: 0.25em;box-sizing: border-box;margin-bottom: 0.5em;}#sk-container-id-3 div.sk-estimator:hover {background-color: #d4ebff;}#sk-container-id-3 div.sk-parallel-item::after {content: \"\";width: 100%;border-bottom: 1px solid gray;flex-grow: 1;}#sk-container-id-3 div.sk-label:hover label.sk-toggleable__label {background-color: #d4ebff;}#sk-container-id-3 div.sk-serial::before {content: \"\";position: absolute;border-left: 1px solid gray;box-sizing: border-box;top: 0;bottom: 0;left: 50%;z-index: 0;}#sk-container-id-3 div.sk-serial {display: flex;flex-direction: column;align-items: center;background-color: white;padding-right: 0.2em;padding-left: 0.2em;position: relative;}#sk-container-id-3 div.sk-item {position: relative;z-index: 1;}#sk-container-id-3 div.sk-parallel {display: flex;align-items: stretch;justify-content: center;background-color: white;position: relative;}#sk-container-id-3 div.sk-item::before, #sk-container-id-3 div.sk-parallel-item::before {content: \"\";position: absolute;border-left: 1px solid gray;box-sizing: border-box;top: 0;bottom: 0;left: 50%;z-index: -1;}#sk-container-id-3 div.sk-parallel-item {display: flex;flex-direction: column;z-index: 1;position: relative;background-color: white;}#sk-container-id-3 div.sk-parallel-item:first-child::after {align-self: flex-end;width: 50%;}#sk-container-id-3 div.sk-parallel-item:last-child::after {align-self: flex-start;width: 50%;}#sk-container-id-3 div.sk-parallel-item:only-child::after {width: 0;}#sk-container-id-3 div.sk-dashed-wrapped {border: 1px dashed gray;margin: 0 0.4em 0.5em 0.4em;box-sizing: border-box;padding-bottom: 0.4em;background-color: white;}#sk-container-id-3 div.sk-label label {font-family: monospace;font-weight: bold;display: inline-block;line-height: 1.2em;}#sk-container-id-3 div.sk-label-container {text-align: center;}#sk-container-id-3 div.sk-container {/* jupyter's `normalize.less` sets `[hidden] { display: none; }` but bootstrap.min.css set `[hidden] { display: none !important; }` so we also need the `!important` here to be able to override the default hidden behavior on the sphinx rendered scikit-learn.org. See: https://github.com/scikit-learn/scikit-learn/issues/21755 */display: inline-block !important;position: relative;}#sk-container-id-3 div.sk-text-repr-fallback {display: none;}</style><div id=\"sk-container-id-3\" class=\"sk-top-container\"><div class=\"sk-text-repr-fallback\"><pre>XGBRegressor(base_score=0.5, booster=&#x27;gbtree&#x27;, callbacks=None,\n",
              "             colsample_bylevel=1, colsample_bynode=1, colsample_bytree=1,\n",
              "             early_stopping_rounds=None, enable_categorical=False,\n",
              "             eval_metric=None, feature_types=None, gamma=0, gpu_id=-1,\n",
              "             grow_policy=&#x27;depthwise&#x27;, importance_type=None,\n",
              "             interaction_constraints=&#x27;&#x27;, learning_rate=0.300000012, max_bin=256,\n",
              "             max_cat_threshold=64, max_cat_to_onehot=4, max_delta_step=0,\n",
              "             max_depth=6, max_leaves=0, min_child_weight=1, missing=nan,\n",
              "             monotone_constraints=&#x27;()&#x27;, n_estimators=100, n_jobs=0,\n",
              "             num_parallel_tree=1, predictor=&#x27;auto&#x27;, random_state=0, ...)</pre><b>In a Jupyter environment, please rerun this cell to show the HTML representation or trust the notebook. <br />On GitHub, the HTML representation is unable to render, please try loading this page with nbviewer.org.</b></div><div class=\"sk-container\" hidden><div class=\"sk-item\"><div class=\"sk-estimator sk-toggleable\"><input class=\"sk-toggleable__control sk-hidden--visually\" id=\"sk-estimator-id-3\" type=\"checkbox\" checked><label for=\"sk-estimator-id-3\" class=\"sk-toggleable__label sk-toggleable__label-arrow\">XGBRegressor</label><div class=\"sk-toggleable__content\"><pre>XGBRegressor(base_score=0.5, booster=&#x27;gbtree&#x27;, callbacks=None,\n",
              "             colsample_bylevel=1, colsample_bynode=1, colsample_bytree=1,\n",
              "             early_stopping_rounds=None, enable_categorical=False,\n",
              "             eval_metric=None, feature_types=None, gamma=0, gpu_id=-1,\n",
              "             grow_policy=&#x27;depthwise&#x27;, importance_type=None,\n",
              "             interaction_constraints=&#x27;&#x27;, learning_rate=0.300000012, max_bin=256,\n",
              "             max_cat_threshold=64, max_cat_to_onehot=4, max_delta_step=0,\n",
              "             max_depth=6, max_leaves=0, min_child_weight=1, missing=nan,\n",
              "             monotone_constraints=&#x27;()&#x27;, n_estimators=100, n_jobs=0,\n",
              "             num_parallel_tree=1, predictor=&#x27;auto&#x27;, random_state=0, ...)</pre></div></div></div></div></div>"
            ],
            "text/plain": [
              "XGBRegressor(base_score=0.5, booster='gbtree', callbacks=None,\n",
              "             colsample_bylevel=1, colsample_bynode=1, colsample_bytree=1,\n",
              "             early_stopping_rounds=None, enable_categorical=False,\n",
              "             eval_metric=None, feature_types=None, gamma=0, gpu_id=-1,\n",
              "             grow_policy='depthwise', importance_type=None,\n",
              "             interaction_constraints='', learning_rate=0.300000012, max_bin=256,\n",
              "             max_cat_threshold=64, max_cat_to_onehot=4, max_delta_step=0,\n",
              "             max_depth=6, max_leaves=0, min_child_weight=1, missing=nan,\n",
              "             monotone_constraints='()', n_estimators=100, n_jobs=0,\n",
              "             num_parallel_tree=1, predictor='auto', random_state=0, ...)"
            ]
          },
          "execution_count": 35,
          "metadata": {},
          "output_type": "execute_result"
        }
      ],
      "source": [
        "x_reg = xgb.XGBRegressor()\n",
        "x_reg.fit(X_train,y_train)"
      ]
    },
    {
      "cell_type": "code",
      "execution_count": null,
      "metadata": {
        "id": "oHxaBcNlFwGg"
      },
      "outputs": [],
      "source": [
        "y_xpred = x_reg.predict(X_test)"
      ]
    },
    {
      "cell_type": "code",
      "execution_count": null,
      "metadata": {
        "id": "hG6YzSGfFwGg",
        "outputId": "d7b516ea-4c77-43a3-a836-ac367cf5208f"
      },
      "outputs": [
        {
          "name": "stdout",
          "output_type": "stream",
          "text": [
            "RMSE : 0.9519710547181006\n"
          ]
        }
      ],
      "source": [
        "x_rmse = evaluation(y_test, y_xpred)\n",
        "print('RMSE :', x_rmse)"
      ]
    },
    {
      "cell_type": "code",
      "execution_count": null,
      "metadata": {
        "id": "kTVkubg3FwGh"
      },
      "outputs": [],
      "source": []
    },
    {
      "cell_type": "code",
      "execution_count": null,
      "metadata": {
        "id": "-1Az83a0FwGh"
      },
      "outputs": [],
      "source": [
        "tt=y_test.to_numpy().reshape((23068,1))"
      ]
    },
    {
      "cell_type": "code",
      "execution_count": null,
      "metadata": {
        "id": "vDciCS6JFwGh",
        "outputId": "bc30923d-ec5e-428b-a26e-2aaa95a4f93f"
      },
      "outputs": [
        {
          "data": {
            "text/plain": [
              "<matplotlib.collections.PathCollection at 0x1809168ab50>"
            ]
          },
          "execution_count": 39,
          "metadata": {},
          "output_type": "execute_result"
        },
        {
          "data": {
            "image/png": "[encoded data removed]",
            "text/plain": [
              "<Figure size 640x480 with 1 Axes>"
            ]
          },
          "metadata": {},
          "output_type": "display_data"
        }
      ],
      "source": [
        "plt.scatter(tt,y_xpred)"
      ]
    },
    {
      "cell_type": "code",
      "execution_count": null,
      "metadata": {
        "id": "3UUeazWOZjYK"
      },
      "outputs": [],
      "source": [
        "import tensorflow as tf"
      ]
    },
    {
      "cell_type": "code",
      "execution_count": null,
      "metadata": {
        "id": "KVVlbvzXZayT"
      },
      "outputs": [],
      "source": [
        "ann = tf.keras.models.Sequential()"
      ]
    },
    {
      "cell_type": "code",
      "execution_count": null,
      "metadata": {
        "colab": {
          "base_uri": "https://localhost:8080/"
        },
        "id": "hfuHrhJ-27Jo",
        "outputId": "06e27afb-50df-4554-803f-2efabc36fa06"
      },
      "outputs": [
        {
          "data": {
            "text/plain": [
              "(92270, 3150)"
            ]
          },
          "execution_count": 27,
          "metadata": {},
          "output_type": "execute_result"
        }
      ],
      "source": [
        "X.shape"
      ]
    },
    {
      "cell_type": "code",
      "execution_count": null,
      "metadata": {
        "id": "3y_jCzPw3KYF"
      },
      "outputs": [],
      "source": [
        "ann.add(tf.keras.Input(shape=(3150,)))"
      ]
    },
    {
      "cell_type": "code",
      "execution_count": null,
      "metadata": {
        "id": "0GzgIhBPZfhd"
      },
      "outputs": [],
      "source": [
        "ann.add(tf.keras.layers.Dense(units=800, activation='relu'))"
      ]
    },
    {
      "cell_type": "code",
      "execution_count": null,
      "metadata": {
        "id": "1mcI_OxRZ1Qf"
      },
      "outputs": [],
      "source": [
        "ann.add(tf.keras.layers.Dense(units=200, activation='relu'))\n",
        "ann.add(tf.keras.layers.Dense(units=1, activation='relu'))"
      ]
    },
    {
      "cell_type": "code",
      "execution_count": null,
      "metadata": {
        "id": "fXqxvRhpZ1vl"
      },
      "outputs": [],
      "source": [
        "ann.compile(optimizer = 'adam', loss = 'MSE', metrics = ['accuracy'])"
      ]
    },
    {
      "cell_type": "code",
      "execution_count": null,
      "metadata": {
        "colab": {
          "base_uri": "https://localhost:8080/"
        },
        "id": "jbp4dRgKZ5Dv",
        "outputId": "13a1cd6b-e03f-4d6e-f884-7a6bb17078f1"
      },
      "outputs": [
        {
          "name": "stdout",
          "output_type": "stream",
          "text": [
            "Epoch 1/50\n",
            "2163/2163 [==============================] - 47s 21ms/step - loss: 42788032512.0000 - accuracy: 0.0000e+00\n",
            "Epoch 2/50\n",
            "2163/2163 [==============================] - 49s 22ms/step - loss: 2389378048.0000 - accuracy: 0.0000e+00\n",
            "Epoch 3/50\n",
            "2163/2163 [==============================] - 48s 22ms/step - loss: 1691554816.0000 - accuracy: 0.0000e+00\n",
            "Epoch 4/50\n",
            "2163/2163 [==============================] - 47s 22ms/step - loss: 1534761088.0000 - accuracy: 0.0000e+00\n",
            "Epoch 5/50\n",
            "2163/2163 [==============================] - 47s 22ms/step - loss: 1464131456.0000 - accuracy: 0.0000e+00\n",
            "Epoch 6/50\n",
            "2163/2163 [==============================] - 47s 22ms/step - loss: 1424196736.0000 - accuracy: 0.0000e+00\n",
            "Epoch 7/50\n",
            "2163/2163 [==============================] - 47s 22ms/step - loss: 1391531520.0000 - accuracy: 0.0000e+00\n",
            "Epoch 8/50\n",
            "2163/2163 [==============================] - 50s 23ms/step - loss: 1349841152.0000 - accuracy: 0.0000e+00\n",
            "Epoch 9/50\n",
            "2163/2163 [==============================] - 51s 24ms/step - loss: 1287103616.0000 - accuracy: 0.0000e+00\n",
            "Epoch 10/50\n",
            "2163/2163 [==============================] - 43s 20ms/step - loss: 1196513920.0000 - accuracy: 0.0000e+00\n",
            "Epoch 11/50\n",
            "2163/2163 [==============================] - 43s 20ms/step - loss: 1103783936.0000 - accuracy: 0.0000e+00\n",
            "Epoch 12/50\n",
            "2163/2163 [==============================] - 43s 20ms/step - loss: 1027423616.0000 - accuracy: 0.0000e+00\n",
            "Epoch 13/50\n",
            "2163/2163 [==============================] - 44s 20ms/step - loss: 970868224.0000 - accuracy: 0.0000e+00\n",
            "Epoch 14/50\n",
            "2163/2163 [==============================] - 44s 20ms/step - loss: 931035136.0000 - accuracy: 0.0000e+00\n",
            "Epoch 15/50\n",
            "2163/2163 [==============================] - 44s 20ms/step - loss: 899885120.0000 - accuracy: 0.0000e+00\n",
            "Epoch 16/50\n",
            "2163/2163 [==============================] - 44s 20ms/step - loss: 876128064.0000 - accuracy: 0.0000e+00\n",
            "Epoch 17/50\n",
            "2163/2163 [==============================] - 46s 21ms/step - loss: 858302720.0000 - accuracy: 0.0000e+00\n",
            "Epoch 18/50\n",
            "2163/2163 [==============================] - 45s 21ms/step - loss: 843662528.0000 - accuracy: 0.0000e+00\n",
            "Epoch 19/50\n",
            "2163/2163 [==============================] - 45s 21ms/step - loss: 831966208.0000 - accuracy: 0.0000e+00\n",
            "Epoch 20/50\n",
            "2163/2163 [==============================] - 45s 21ms/step - loss: 820498496.0000 - accuracy: 0.0000e+00\n",
            "Epoch 21/50\n",
            "2163/2163 [==============================] - 45s 21ms/step - loss: 811909568.0000 - accuracy: 0.0000e+00\n",
            "Epoch 22/50\n",
            "2163/2163 [==============================] - 44s 21ms/step - loss: 802239424.0000 - accuracy: 0.0000e+00\n",
            "Epoch 23/50\n",
            "2163/2163 [==============================] - 44s 21ms/step - loss: 796526208.0000 - accuracy: 0.0000e+00\n",
            "Epoch 24/50\n",
            "2163/2163 [==============================] - 47s 22ms/step - loss: 788772992.0000 - accuracy: 0.0000e+00\n",
            "Epoch 25/50\n",
            "2163/2163 [==============================] - 46s 21ms/step - loss: 780547776.0000 - accuracy: 0.0000e+00\n",
            "Epoch 26/50\n",
            "2163/2163 [==============================] - 44s 21ms/step - loss: 774993536.0000 - accuracy: 0.0000e+00\n",
            "Epoch 27/50\n",
            "2163/2163 [==============================] - 44s 20ms/step - loss: 768975552.0000 - accuracy: 0.0000e+00\n",
            "Epoch 28/50\n",
            "2163/2163 [==============================] - 44s 20ms/step - loss: 763181056.0000 - accuracy: 0.0000e+00\n",
            "Epoch 29/50\n",
            "2163/2163 [==============================] - 45s 21ms/step - loss: 757322176.0000 - accuracy: 0.0000e+00\n",
            "Epoch 30/50\n",
            "2163/2163 [==============================] - 45s 21ms/step - loss: 751926400.0000 - accuracy: 0.0000e+00\n",
            "Epoch 31/50\n",
            "2163/2163 [==============================] - 47s 22ms/step - loss: 746668352.0000 - accuracy: 0.0000e+00\n",
            "Epoch 32/50\n",
            "2163/2163 [==============================] - 45s 21ms/step - loss: 740393472.0000 - accuracy: 0.0000e+00\n",
            "Epoch 33/50\n",
            "2163/2163 [==============================] - 45s 21ms/step - loss: 736377792.0000 - accuracy: 0.0000e+00\n",
            "Epoch 34/50\n",
            "2163/2163 [==============================] - 45s 21ms/step - loss: 729404672.0000 - accuracy: 0.0000e+00\n",
            "Epoch 35/50\n",
            "2163/2163 [==============================] - 45s 21ms/step - loss: 723508416.0000 - accuracy: 0.0000e+00\n",
            "Epoch 36/50\n",
            "2163/2163 [==============================] - 45s 21ms/step - loss: 718093888.0000 - accuracy: 0.0000e+00\n",
            "Epoch 37/50\n",
            "2163/2163 [==============================] - 44s 20ms/step - loss: 710949184.0000 - accuracy: 0.0000e+00\n",
            "Epoch 38/50\n",
            "2163/2163 [==============================] - 47s 22ms/step - loss: 704860608.0000 - accuracy: 0.0000e+00\n",
            "Epoch 39/50\n",
            "2163/2163 [==============================] - 45s 21ms/step - loss: 698310144.0000 - accuracy: 0.0000e+00\n",
            "Epoch 40/50\n",
            "2163/2163 [==============================] - 45s 21ms/step - loss: 692128640.0000 - accuracy: 0.0000e+00\n",
            "Epoch 41/50\n",
            "2163/2163 [==============================] - 45s 21ms/step - loss: 685157568.0000 - accuracy: 0.0000e+00\n",
            "Epoch 42/50\n",
            "2163/2163 [==============================] - 44s 21ms/step - loss: 679346752.0000 - accuracy: 0.0000e+00\n",
            "Epoch 43/50\n",
            "2163/2163 [==============================] - 44s 20ms/step - loss: 672790400.0000 - accuracy: 0.0000e+00\n",
            "Epoch 44/50\n",
            "2163/2163 [==============================] - 44s 21ms/step - loss: 666187840.0000 - accuracy: 0.0000e+00\n",
            "Epoch 45/50\n",
            "2163/2163 [==============================] - 47s 22ms/step - loss: 661078208.0000 - accuracy: 0.0000e+00\n",
            "Epoch 46/50\n",
            "2163/2163 [==============================] - 45s 21ms/step - loss: 654962304.0000 - accuracy: 0.0000e+00\n",
            "Epoch 47/50\n",
            "2163/2163 [==============================] - 44s 20ms/step - loss: 648872000.0000 - accuracy: 0.0000e+00\n",
            "Epoch 48/50\n",
            "2163/2163 [==============================] - 45s 21ms/step - loss: 643136832.0000 - accuracy: 0.0000e+00\n",
            "Epoch 49/50\n",
            "2163/2163 [==============================] - 45s 21ms/step - loss: 637979776.0000 - accuracy: 0.0000e+00\n",
            "Epoch 50/50\n",
            "2163/2163 [==============================] - 45s 21ms/step - loss: 631783616.0000 - accuracy: 0.0000e+00\n"
          ]
        },
        {
          "data": {
            "text/plain": [
              "<keras.callbacks.History at 0x7f0398e31a30>"
            ]
          },
          "execution_count": 33,
          "metadata": {},
          "output_type": "execute_result"
        }
      ],
      "source": [
        "ann.fit(X_train, y_train, batch_size = 32, epochs = 50)"
      ]
    },
    {
      "cell_type": "code",
      "execution_count": null,
      "metadata": {
        "colab": {
          "base_uri": "https://localhost:8080/"
        },
        "id": "RvxkpJUZZ8Ga",
        "outputId": "17c7c0e3-edca-4e41-f5ff-376c71f174fd"
      },
      "outputs": [
        {
          "name": "stdout",
          "output_type": "stream",
          "text": [
            "721/721 [==============================] - 6s 8ms/step\n"
          ]
        }
      ],
      "source": [
        "y_pred = ann.predict(X_test)"
      ]
    },
    {
      "cell_type": "code",
      "execution_count": null,
      "metadata": {
        "colab": {
          "base_uri": "https://localhost:8080/"
        },
        "id": "xUDmdVsEyWRo",
        "outputId": "646a1199-53ad-40b8-92bb-2b0d4161bfc2"
      },
      "outputs": [
        {
          "name": "stdout",
          "output_type": "stream",
          "text": [
            "721/721 [==============================] - 6s 8ms/step\n"
          ]
        }
      ],
      "source": [
        "y_pred = ann.predict(X_test)"
      ]
    },
    {
      "cell_type": "code",
      "execution_count": null,
      "metadata": {
        "id": "P46MHU74BaPe"
      },
      "outputs": [],
      "source": [
        "tt=y_test.to_numpy().reshape((23068,1))"
      ]
    },
    {
      "cell_type": "code",
      "execution_count": null,
      "metadata": {
        "colab": {
          "base_uri": "https://localhost:8080/"
        },
        "id": "MogpaW3J1tjC",
        "outputId": "74f1c22a-7e6c-458e-9974-bf8ef5a7d2c3"
      },
      "outputs": [
        {
          "data": {
            "text/plain": [
              "(23068, 1)"
            ]
          },
          "execution_count": 46,
          "metadata": {},
          "output_type": "execute_result"
        }
      ],
      "source": [
        "y_pred.shape"
      ]
    },
    {
      "cell_type": "code",
      "execution_count": null,
      "metadata": {
        "colab": {
          "base_uri": "https://localhost:8080/"
        },
        "id": "uPAIrCPJCHpw",
        "outputId": "148df28d-7f8c-459e-f0e3-0a0fa2fd2615"
      },
      "outputs": [
        {
          "data": {
            "text/plain": [
              "array([[362800.     , 362377.6875 ],\n",
              "       [530000.     , 560811.8125 ],\n",
              "       [385000.     , 372694.75   ],\n",
              "       ...,\n",
              "       [461000.     , 492564.6875 ],\n",
              "       [315000.     , 332757.03125],\n",
              "       [368000.     , 365705.0625 ]])"
            ]
          },
          "execution_count": 52,
          "metadata": {},
          "output_type": "execute_result"
        }
      ],
      "source": [
        "np.concatenate((tt,y_pred),1)"
      ]
    },
    {
      "cell_type": "code",
      "execution_count": null,
      "metadata": {
        "colab": {
          "base_uri": "https://localhost:8080/",
          "height": 306
        },
        "id": "LOrLYf4SC4Uc",
        "outputId": "35490e18-9010-4895-c39d-4caf6a5da5cd"
      },
      "outputs": [
        {
          "data": {
            "text/plain": [
              "<matplotlib.collections.PathCollection at 0x7f03956bc3d0>"
            ]
          },
          "execution_count": 53,
          "metadata": {},
          "output_type": "execute_result"
        },
        {
          "data": {
            "image/png": "[encoded data removed]",
            "text/plain": [
              "<Figure size 432x288 with 1 Axes>"
            ]
          },
          "metadata": {
            "needs_background": "light"
          },
          "output_type": "display_data"
        }
      ],
      "source": [
        "plt.scatter(tt,y_pred)"
      ]
    },
    {
      "cell_type": "code",
      "execution_count": null,
      "metadata": {
        "colab": {
          "base_uri": "https://localhost:8080/"
        },
        "id": "dfNKBBI7DG6h",
        "outputId": "48ba2914-89d0-4a3e-b133-be6939338b26"
      },
      "outputs": [
        {
          "data": {
            "text/plain": [
              "array([0.04572694])"
            ]
          },
          "execution_count": 58,
          "metadata": {},
          "output_type": "execute_result"
        }
      ],
      "source": [
        "gg=(abs(tt-y_pred))/tt\n",
        "sum(gg)/len(gg)\n"
      ]
    }
  ],
  "metadata": {
    "colab": {
      "provenance": []
    },
    "kernelspec": {
      "display_name": "Python 3",
      "language": "python",
      "name": "python3"
    },
    "language_info": {
      "codemirror_mode": {
        "name": "ipython",
        "version": 3
      },
      "file_extension": ".py",
      "mimetype": "text/x-python",
      "name": "python",
      "nbconvert_exporter": "python",
      "pygments_lexer": "ipython3",
      "version": "3.11.1 (tags/v3.11.1:a7a450f, Dec  6 2022, 19:58:39) [MSC v.1934 64 bit (AMD64)]"
    },
    "vscode": {
      "interpreter": {
        "hash": "c37f8387768dbf3986146d42fe4d96fc9b384a0da7362fe905d7d4ce093495c8"
      }
    }
  },
  "nbformat": 4,
  "nbformat_minor": 0
}